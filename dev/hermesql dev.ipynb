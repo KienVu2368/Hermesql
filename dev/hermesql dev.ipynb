{
 "cells": [
  {
   "cell_type": "code",
   "execution_count": 1,
   "metadata": {},
   "outputs": [],
   "source": [
    "import hermesql\n",
    "from hermesql import terms\n",
    "from hermesql.terms import *"
   ]
  },
  {
   "cell_type": "code",
   "execution_count": 2,
   "metadata": {},
   "outputs": [],
   "source": [
    "from hermesql import Table\n",
    "from hermesql.queries import *"
   ]
  },
  {
   "cell_type": "markdown",
   "metadata": {},
   "source": [
    "# table"
   ]
  },
  {
   "cell_type": "markdown",
   "metadata": {},
   "source": [
    "## class"
   ]
  },
  {
   "cell_type": "code",
   "execution_count": 20,
   "metadata": {},
   "outputs": [],
   "source": [
    "class Table2(Selectable):\n",
    "    @staticmethod\n",
    "    def _init_schema(schema: Union[str, list, tuple, Schema, None]) -> Union[str, list, tuple, Schema, None]:\n",
    "        # This is a bit complicated in order to support backwards compatibility. It should probably be cleaned up for\n",
    "        # the next major release. Schema is accepted as a string, list/tuple, Schema instance, or None\n",
    "        if isinstance(schema, Schema):\n",
    "            return schema\n",
    "        if isinstance(schema, (list, tuple)):\n",
    "            return reduce(\n",
    "                  lambda obj, s: Schema(s, parent=obj), schema[1:], Schema(schema[0])\n",
    "            )\n",
    "        if schema is not None:\n",
    "            return Schema(schema)\n",
    "        return None\n",
    "\n",
    "    def __init__(self, table_name: str, alias: str, field: dict, criteria: Optional[dict] = None, schema: Optional[Union[Schema, str]] = None,  query_cls: Optional[Type[\"Query\"]] = None) -> None:\n",
    "        super().__init__(alias)\n",
    "        self._table_name = table_name\n",
    "        self._field = field\n",
    "        self._criteria = criteria\n",
    "        self._schema = self._init_schema(schema)\n",
    "        self._query_cls = query_cls or Query\n",
    "        if not issubclass(self._query_cls, Query):\n",
    "            raise TypeError(\"Expected 'query_cls' to be subclass of Query\")\n",
    "\n",
    "            \n",
    "    @classmethod\n",
    "    def from_model(cls, model, table_name): return cls(*model.load_table(table_name))\n",
    "            \n",
    "    def get_table_name(self) -> str:\n",
    "        return self.alias or self._table_name\n",
    "\n",
    "    def get_sql(self, **kwargs: Any) -> str:\n",
    "        quote_char = kwargs.get(\"quote_char\")\n",
    "        # FIXME escape\n",
    "        table_sql = format_quotes(self._table_name, quote_char)\n",
    "\n",
    "        if self._schema is not None:\n",
    "            table_sql = \"{schema}.{table}\".format(\n",
    "                  schema=self._schema.get_sql(**kwargs), table=table_sql\n",
    "            )\n",
    "\n",
    "        return format_alias_sql(table_sql, self.alias, **kwargs)\n",
    "\n",
    "    def __str__(self) -> str:\n",
    "        return self.get_sql(quote_char='\"')\n",
    "\n",
    "    def __eq__(self, other) -> bool:\n",
    "        if not isinstance(other, Table):\n",
    "            return False\n",
    "\n",
    "        if self._table_name != other._table_name:\n",
    "            return False\n",
    "\n",
    "        if self._schema != other._schema:\n",
    "            return False\n",
    "\n",
    "        if self.alias != other.alias:\n",
    "            return False\n",
    "\n",
    "        return True\n",
    "\n",
    "    def __repr__(self) -> str:\n",
    "        if self._schema:\n",
    "            return \"Table('{}', schema='{}')\".format(self._table_name, self._schema)\n",
    "        return \"Table('{}')\".format(self._table_name)\n",
    "\n",
    "    def __ne__(self, other: Any) -> bool:\n",
    "        return not self.__eq__(other)\n",
    "\n",
    "    def __hash__(self) -> int:\n",
    "        return hash(str(self))\n",
    "\n",
    "    def select(self, *terms: Sequence[Union[int, float, str, bool, Term, Field]]) -> \"QueryBuilder\":\n",
    "        \"\"\"\n",
    "        Perform a SELECT operation on the current table\n",
    "\n",
    "        :param terms:\n",
    "            Type:  list[expression]\n",
    "\n",
    "            A list of terms to select. These can be any type of int, float, str, bool or Term or a Field.\n",
    "\n",
    "        :return:  QueryBuilder\n",
    "        \"\"\"\n",
    "        return self._query_cls.from_(self).select(*terms)\n",
    "\n",
    "    def update(self) -> \"QueryBuilder\":\n",
    "        \"\"\"\n",
    "        Perform an UPDATE operation on the current table\n",
    "\n",
    "        :return: QueryBuilder\n",
    "        \"\"\"\n",
    "        return self._query_cls.update(self)\n",
    "\n",
    "    def insert(self, *terms: Union[int, float, str, bool, Term, Field]) -> \"QueryBuilder\":\n",
    "        \"\"\"\n",
    "        Perform an INSERT operation on the current table\n",
    "\n",
    "        :param terms:\n",
    "            Type: list[expression]\n",
    "\n",
    "            A list of terms to select. These can be any type of int, float, str, bool or  any other valid data\n",
    "\n",
    "        :return: QueryBuilder\n",
    "        \"\"\"\n",
    "        return self._query_cls.into(self).insert(*terms)"
   ]
  },
  {
   "cell_type": "markdown",
   "metadata": {},
   "source": [
    "## test create table"
   ]
  },
  {
   "cell_type": "code",
   "execution_count": 21,
   "metadata": {},
   "outputs": [],
   "source": [
    "booking = Table2(\"booking\", \"b\", {})"
   ]
  },
  {
   "cell_type": "code",
   "execution_count": 25,
   "metadata": {},
   "outputs": [
    {
     "data": {
      "text/plain": [
       "Table('booking')"
      ]
     },
     "execution_count": 25,
     "metadata": {},
     "output_type": "execute_result"
    }
   ],
   "source": [
    "booking"
   ]
  },
  {
   "cell_type": "markdown",
   "metadata": {},
   "source": [
    "# Field_piece"
   ]
  },
  {
   "cell_type": "markdown",
   "metadata": {},
   "source": [
    "## class"
   ]
  },
  {
   "cell_type": "code",
   "execution_count": 4,
   "metadata": {},
   "outputs": [],
   "source": [
    "class Field_piece(Criterion, JSON):\n",
    "    def __init__(self, name: str, calculation: Optional[str] = None, type: Optional[str] = None, table_alias: Optional[str] = None) -> None:\n",
    "        self.alias = name\n",
    "        self.calculation = calculation\n",
    "        self.type = type\n",
    "        self.table_alias = table_alias\n",
    "\n",
    "    def nodes_(self) -> Iterator[NodeT]:\n",
    "        yield self\n",
    "        if self.table is not None:\n",
    "            yield from self.table.nodes_()\n",
    "\n",
    "    @builder\n",
    "    def replace_table(self, current_table: Optional[\"Table\"], new_table: Optional[\"Table\"]) -> \"Field\":\n",
    "        \"\"\"\n",
    "        Replaces all occurrences of the specified table with the new table. Useful when reusing fields across queries.\n",
    "\n",
    "        :param current_table:\n",
    "            The table to be replaced.\n",
    "        :param new_table:\n",
    "            The table to replace with.\n",
    "        :return:\n",
    "            A copy of the field with the tables replaced.\n",
    "        \"\"\"\n",
    "        self.table = new_table if self.table == current_table else self.table\n",
    "\n",
    "    def get_sql(self, with_alias = True, with_namespace = False, quote_char = None, **kwargs: Any) -> str:\n",
    "        field_sql = format_quotes(self.calculation, quote_char)\n",
    "\n",
    "        # Need to add namespace if the table has an alias\n",
    "        if with_namespace or self.table_alias:\n",
    "            field_sql = \"{namespace}.{name}\".format(\n",
    "                  namespace=format_quotes(self.table_alias, quote_char), name=field_sql,\n",
    "            )\n",
    "\n",
    "        field_alias = getattr(self, \"alias\", None)\n",
    "        if with_alias: return format_alias_sql(field_sql, field_alias, quote_char=quote_char, **kwargs)\n",
    "        return field_sql"
   ]
  },
  {
   "cell_type": "markdown",
   "metadata": {
    "collapsed": "true"
   },
   "source": [
    "## test field piece"
   ]
  },
  {
   "cell_type": "code",
   "execution_count": 11,
   "metadata": {},
   "outputs": [],
   "source": [
    "field_dict = {\n",
    "    \"invite_id\": {\n",
    "        \"calculation\": \"id\",\n",
    "        \"type\": \"dimension\"\n",
    "    },\n",
    "    \"invite_at\": {\n",
    "        \"calculation\": \"fct.date_add(created_at)\",\n",
    "        \"type\": \"dimension\"\n",
    "    },\n",
    "    \"invite_at_date\": {\n",
    "        \"calculation\": \"fct.date_date_add(created_at)\",\n",
    "        \"type\": \"dimension\"\n",
    "    }\n",
    "}"
   ]
  },
  {
   "cell_type": "code",
   "execution_count": 67,
   "metadata": {},
   "outputs": [],
   "source": [
    "field_dict_1 = {}"
   ]
  },
  {
   "cell_type": "code",
   "execution_count": 68,
   "metadata": {},
   "outputs": [],
   "source": [
    "field_dict_1[\"invite_id\"] = test_field"
   ]
  },
  {
   "cell_type": "code",
   "execution_count": 69,
   "metadata": {},
   "outputs": [],
   "source": [
    "field_dict_1[\"invite_at\"] = test_field"
   ]
  },
  {
   "cell_type": "code",
   "execution_count": 75,
   "metadata": {},
   "outputs": [
    {
     "data": {
      "text/plain": [
       "'b.id invite_id'"
      ]
     },
     "execution_count": 75,
     "metadata": {},
     "output_type": "execute_result"
    }
   ],
   "source": [
    "field_dict_1[\"invite_id\"].get_sql()"
   ]
  },
  {
   "cell_type": "code",
   "execution_count": 71,
   "metadata": {},
   "outputs": [],
   "source": [
    "booking.field = field_dict_1"
   ]
  },
  {
   "cell_type": "code",
   "execution_count": null,
   "metadata": {},
   "outputs": [],
   "source": []
  },
  {
   "cell_type": "code",
   "execution_count": 65,
   "metadata": {},
   "outputs": [],
   "source": [
    "test_field = Field_piece(name = \"invite_id\", calculation = \"id\", type = \"dimension\", table = booking)"
   ]
  },
  {
   "cell_type": "code",
   "execution_count": 66,
   "metadata": {},
   "outputs": [
    {
     "data": {
      "text/plain": [
       "'b.id invite_id'"
      ]
     },
     "execution_count": 66,
     "metadata": {},
     "output_type": "execute_result"
    }
   ],
   "source": [
    "test_field.get_sql()"
   ]
  },
  {
   "cell_type": "markdown",
   "metadata": {},
   "source": [
    "# model"
   ]
  },
  {
   "cell_type": "code",
   "execution_count": 76,
   "metadata": {},
   "outputs": [],
   "source": [
    "import json"
   ]
  },
  {
   "cell_type": "markdown",
   "metadata": {},
   "source": [
    "## model dict"
   ]
  },
  {
   "cell_type": "code",
   "execution_count": 5,
   "metadata": {},
   "outputs": [],
   "source": [
    "model_dict = {\n",
    "    \"table\": {\n",
    "        \"invites\": {\n",
    "            \"alias\": \"ivt\",\n",
    "            \"field\": {\n",
    "                \"invite_id\": {\n",
    "                    \"calculation\": \"id\",\n",
    "                    \"type\": \"dimension\"\n",
    "                },\n",
    "                \"invite_at\": {\n",
    "                    \"calculation\": \"fct.date_add(created_at)\",\n",
    "                    \"type\": \"dimension\"\n",
    "                },\n",
    "                \"invite_at_date\": {\n",
    "                    \"calculation\": \"fct.date_date_add(created_at)\",\n",
    "                    \"type\": \"dimension\"\n",
    "                },\n",
    "                \"referrer_id\": {\n",
    "                    \"type\": \"dimension\"\n",
    "                },\n",
    "                \"referee_id\": {\n",
    "                    \"calculation\": \"friend_id\",\n",
    "                    \"type\": \"dimension\"\n",
    "                }\n",
    "            },\n",
    "            \"criteria\": \"\"\n",
    "        },\n",
    "        \"invite_credit\": {\n",
    "            \"name\": \"invite_credit\",\n",
    "            \"alias\": \"ivt_crt\",\n",
    "            \"field\": {\n",
    "                \"dimension\": {\n",
    "                    \"created_at\": {\n",
    "                        \"calculation\": \"fct.date_add(created_at)\",\n",
    "                        \"alias\": \"created_at\"\n",
    "                    },\n",
    "                    \"created_at_date\": {\n",
    "                        \"calculation\": \"fct.date_date_add(created_at\",\n",
    "                        \"alias\": \"created_at_date\"\n",
    "                    },\n",
    "                    \"invite_id\": {\n",
    "                        \"calculation\": \"invite_id\",\n",
    "                        \"alias\": \"invite_id\"\n",
    "                    },\n",
    "                    \"credit\": {\n",
    "                        \"calculation\": \"credit\",\n",
    "                        \"alias\": \"credit\"\n",
    "                    },\n",
    "                    \"status\": {\n",
    "                        \"calculation\": \"status\",\n",
    "                        \"alias\": \"status\"\n",
    "                    },\n",
    "                    \"type\": {\n",
    "                        \"calculation\": \"type\",\n",
    "                        \"alias\": \"type\"\n",
    "                    },\n",
    "                    \"booking_id\": {\n",
    "                        \"calculation\": \"tybooking_idpe\",\n",
    "                        \"alias\": \"booking_id\"\n",
    "                    },\n",
    "                    \"desc\": {\n",
    "                        \"calculation\": \"`desc`\",\n",
    "                        \"alias\": \"`desc`\"\n",
    "                    }\n",
    "                },\n",
    "                \"measure\": \"\",\n",
    "                \"criteria\": {\n",
    "                    \"default\": \"invite_id is not null\"                    \n",
    "                }\n",
    "            }\n",
    "        }\n",
    "    },\n",
    "\n",
    "    \"join\": {\n",
    "\n",
    "    },\n",
    "\n",
    "    \"function\": {\n",
    "        \"date_add\": \"sql.date_add($field, interval + 7 hour)\",\n",
    "        \"date_date_add\": \"sql.date(fct.date_add)\"\n",
    "    }\n",
    "}"
   ]
  },
  {
   "cell_type": "markdown",
   "metadata": {},
   "source": [
    "## class"
   ]
  },
  {
   "cell_type": "code",
   "execution_count": 6,
   "metadata": {},
   "outputs": [],
   "source": [
    "class model:\n",
    "    def __init__(self, model: dict):\n",
    "        self.tables = model['table']\n",
    "        self.joins = model['join']\n",
    "        self.functions = model['function']        \n",
    "        \n",
    "    @classmethod\n",
    "    def from_json_file(cls, file_path):\n",
    "        f = open(file_path)\n",
    "        json_file = f\n",
    "        f.close()\n",
    "        return cls.from_json(json_file)\n",
    "        \n",
    "    @classmethod\n",
    "    def from_json(cls, json):\n",
    "        model_dict = json.load(json) \n",
    "        return cls(model_dict)\n",
    "        \n",
    "    def load_table(self, table_name):\n",
    "        self.table_alias = self.tables[table_name]['alias']\n",
    "        fields = self.load_field_from_dict(self.tables[table_name]['field'])\n",
    "        creteria = self.tables[table_name]['criteria']        \n",
    "        return (table_name, self.table_alias, fields, creteria)\n",
    "    \n",
    "    def load_field_from_dict(self, field_dict):\n",
    "        fields = {}\n",
    "        for field in field_dict.keys():\n",
    "            calculation = field_dict[field]['calculation'] if \"calculation\" in field_dict[field].keys() else None\n",
    "            type = field_dict[field]['type']\n",
    "            fields[field] = self.load_field(field, calculation, type, self.table_alias)         \n",
    "        return fields\n",
    "    \n",
    "    def load_field(self, field_name, calculation, type, table_alias):\n",
    "        return Field_piece(field_name, calculation, type, table_alias)\n",
    "    \n",
    "    def load_join(self, join_name): return None\n",
    "    \n",
    "    def load_function(sefl, function_name): return None"
   ]
  },
  {
   "cell_type": "markdown",
   "metadata": {},
   "source": [
    "## test model"
   ]
  },
  {
   "cell_type": "code",
   "execution_count": 7,
   "metadata": {},
   "outputs": [],
   "source": [
    "etl_model = model(model_dict)"
   ]
  },
  {
   "cell_type": "code",
   "execution_count": 11,
   "metadata": {},
   "outputs": [],
   "source": [
    "invites = Table2.from_model(etl_model,\"invites\")"
   ]
  },
  {
   "cell_type": "code",
   "execution_count": 16,
   "metadata": {},
   "outputs": [
    {
     "data": {
      "text/plain": [
       "'id'"
      ]
     },
     "execution_count": 16,
     "metadata": {},
     "output_type": "execute_result"
    }
   ],
   "source": [
    "invites._field['invite_id'].calculation"
   ]
  }
 ],
 "metadata": {
  "kernelspec": {
   "display_name": "Python [conda env:zero] *",
   "language": "python",
   "name": "conda-env-zero-py"
  },
  "language_info": {
   "codemirror_mode": {
    "name": "ipython",
    "version": 3
   },
   "file_extension": ".py",
   "mimetype": "text/x-python",
   "name": "python",
   "nbconvert_exporter": "python",
   "pygments_lexer": "ipython3",
   "version": "3.8.5"
  }
 },
 "nbformat": 4,
 "nbformat_minor": 4
}
